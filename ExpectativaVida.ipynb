{
 "cells": [
  {
   "cell_type": "markdown",
   "id": "dc8d457c-9697-494d-84be-e76aaac3df85",
   "metadata": {},
   "source": [
    "## Expectaviva de vida dos países em 2024"
   ]
  },
  {
   "cell_type": "code",
   "execution_count": 1,
   "id": "9a4a9fc5-81a1-48f7-b574-79c6a4924232",
   "metadata": {},
   "outputs": [
    {
     "data": {
      "text/html": [
       "<div>\n",
       "<style scoped>\n",
       "    .dataframe tbody tr th:only-of-type {\n",
       "        vertical-align: middle;\n",
       "    }\n",
       "\n",
       "    .dataframe tbody tr th {\n",
       "        vertical-align: top;\n",
       "    }\n",
       "\n",
       "    .dataframe thead th {\n",
       "        text-align: right;\n",
       "    }\n",
       "</style>\n",
       "<table border=\"1\" class=\"dataframe\">\n",
       "  <thead>\n",
       "    <tr style=\"text-align: right;\">\n",
       "      <th></th>\n",
       "      <th>pais</th>\n",
       "      <th>continente</th>\n",
       "      <th>expectativa_homem</th>\n",
       "      <th>expectativa_mulher</th>\n",
       "      <th>taxa_nascimento</th>\n",
       "      <th>taxa_mortalidade</th>\n",
       "    </tr>\n",
       "  </thead>\n",
       "  <tbody>\n",
       "    <tr>\n",
       "      <th>0</th>\n",
       "      <td>Hong</td>\n",
       "      <td>Ásia</td>\n",
       "      <td>83.2</td>\n",
       "      <td>87.9</td>\n",
       "      <td>5.0</td>\n",
       "      <td>6.9</td>\n",
       "    </tr>\n",
       "    <tr>\n",
       "      <th>1</th>\n",
       "      <td>Macau</td>\n",
       "      <td>Ásia</td>\n",
       "      <td>82.8</td>\n",
       "      <td>87.9</td>\n",
       "      <td>10.1</td>\n",
       "      <td>4.1</td>\n",
       "    </tr>\n",
       "    <tr>\n",
       "      <th>2</th>\n",
       "      <td>Suíça</td>\n",
       "      <td>Europa</td>\n",
       "      <td>81.9</td>\n",
       "      <td>85.9</td>\n",
       "      <td>10.3</td>\n",
       "      <td>8.2</td>\n",
       "    </tr>\n",
       "    <tr>\n",
       "      <th>3</th>\n",
       "      <td>Islândia</td>\n",
       "      <td>Europa</td>\n",
       "      <td>81.8</td>\n",
       "      <td>84.5</td>\n",
       "      <td>13.1</td>\n",
       "      <td>6.3</td>\n",
       "    </tr>\n",
       "    <tr>\n",
       "      <th>4</th>\n",
       "      <td>Noruega</td>\n",
       "      <td>Europa</td>\n",
       "      <td>81.7</td>\n",
       "      <td>84.7</td>\n",
       "      <td>10.4</td>\n",
       "      <td>7.8</td>\n",
       "    </tr>\n",
       "  </tbody>\n",
       "</table>\n",
       "</div>"
      ],
      "text/plain": [
       "       pais continente  expectativa_homem  expectativa_mulher  \\\n",
       "0      Hong       Ásia               83.2                87.9   \n",
       "1     Macau       Ásia               82.8                87.9   \n",
       "2     Suíça     Europa               81.9                85.9   \n",
       "3  Islândia     Europa               81.8                84.5   \n",
       "4   Noruega     Europa               81.7                84.7   \n",
       "\n",
       "   taxa_nascimento  taxa_mortalidade  \n",
       "0              5.0               6.9  \n",
       "1             10.1               4.1  \n",
       "2             10.3               8.2  \n",
       "3             13.1               6.3  \n",
       "4             10.4               7.8  "
      ]
     },
     "metadata": {},
     "output_type": "display_data"
    }
   ],
   "source": [
    "import pandas as pd \n",
    "\n",
    "arquivo = 'expectativa_vida.xlsx'\n",
    "dados = pd.read_excel(arquivo)\n",
    "\n",
    "display(dados.head())"
   ]
  },
  {
   "cell_type": "markdown",
   "id": "12828d84-2897-4602-b839-36c4e41dce54",
   "metadata": {},
   "source": [
    "#### Calcula a média da expectativa de vida da mulher do continente Europa"
   ]
  },
  {
   "cell_type": "code",
   "execution_count": 2,
   "id": "0565eef0-1b42-47f0-9adb-931b3b8def01",
   "metadata": {},
   "outputs": [
    {
     "name": "stdout",
     "output_type": "stream",
     "text": [
      "Média: 81.55\n"
     ]
    }
   ],
   "source": [
    "# Em SQL seria - SELECT AVG(expectativa_mulher) AS media FROM dados WHERE continente = 'Europa'\n",
    "media = dados[dados.continente == 'Europa'].expectativa_mulher.mean()\n",
    "print(f'Média: {media}')"
   ]
  },
  {
   "cell_type": "markdown",
   "id": "1b85c6e1-3cd3-4f55-b995-80f5d4d6a4a9",
   "metadata": {},
   "source": [
    "#### Calcula a média da expectativa de vida da mulher por continente"
   ]
  },
  {
   "cell_type": "code",
   "execution_count": 3,
   "id": "2a5d5910-927e-4912-889c-f54b8ef4dfd2",
   "metadata": {},
   "outputs": [
    {
     "data": {
      "text/html": [
       "<div>\n",
       "<style scoped>\n",
       "    .dataframe tbody tr th:only-of-type {\n",
       "        vertical-align: middle;\n",
       "    }\n",
       "\n",
       "    .dataframe tbody tr th {\n",
       "        vertical-align: top;\n",
       "    }\n",
       "\n",
       "    .dataframe thead th {\n",
       "        text-align: right;\n",
       "    }\n",
       "</style>\n",
       "<table border=\"1\" class=\"dataframe\">\n",
       "  <thead>\n",
       "    <tr style=\"text-align: right;\">\n",
       "      <th></th>\n",
       "      <th>continente</th>\n",
       "      <th>expectativa_mulher</th>\n",
       "    </tr>\n",
       "  </thead>\n",
       "  <tbody>\n",
       "    <tr>\n",
       "      <th>0</th>\n",
       "      <td>América Central e Caribe</td>\n",
       "      <td>76.500000</td>\n",
       "    </tr>\n",
       "    <tr>\n",
       "      <th>1</th>\n",
       "      <td>América do Norte</td>\n",
       "      <td>80.350000</td>\n",
       "    </tr>\n",
       "    <tr>\n",
       "      <th>2</th>\n",
       "      <td>América do Sul</td>\n",
       "      <td>75.930000</td>\n",
       "    </tr>\n",
       "    <tr>\n",
       "      <th>3</th>\n",
       "      <td>Europa</td>\n",
       "      <td>81.550000</td>\n",
       "    </tr>\n",
       "    <tr>\n",
       "      <th>4</th>\n",
       "      <td>Oceania</td>\n",
       "      <td>80.225000</td>\n",
       "    </tr>\n",
       "    <tr>\n",
       "      <th>5</th>\n",
       "      <td>África</td>\n",
       "      <td>65.448000</td>\n",
       "    </tr>\n",
       "    <tr>\n",
       "      <th>6</th>\n",
       "      <td>Ásia</td>\n",
       "      <td>77.012903</td>\n",
       "    </tr>\n",
       "  </tbody>\n",
       "</table>\n",
       "</div>"
      ],
      "text/plain": [
       "                 continente  expectativa_mulher\n",
       "0  América Central e Caribe           76.500000\n",
       "1          América do Norte           80.350000\n",
       "2            América do Sul           75.930000\n",
       "3                    Europa           81.550000\n",
       "4                   Oceania           80.225000\n",
       "5                    África           65.448000\n",
       "6                      Ásia           77.012903"
      ]
     },
     "metadata": {},
     "output_type": "display_data"
    }
   ],
   "source": [
    "# Em SQL seria - SELECT continente, AVG(expectativa_mulher) AS media FROM dados GROUP BY continente\n",
    "media_continente = dados.groupby(['continente']).expectativa_mulher.mean().reset_index()\n",
    "display(media_continente)"
   ]
  },
  {
   "cell_type": "code",
   "execution_count": 4,
   "id": "c738f874-4a68-4c7d-88de-70112ab9e4b4",
   "metadata": {},
   "outputs": [
    {
     "data": {
      "image/png": "[encoded data removed]",
      "text/plain": [
       "<Figure size 1600x400 with 1 Axes>"
      ]
     },
     "metadata": {},
     "output_type": "display_data"
    }
   ],
   "source": [
    "import matplotlib.pyplot as grafico\n",
    "import seaborn\n",
    "\n",
    "grafico.figure(figsize=(16, 4))\n",
    "seaborn.barplot(x='continente', y='expectativa_mulher', data=media_continente)\n",
    "grafico.xlabel('Continente')\n",
    "grafico.ylabel('Idade')\n",
    "grafico.title('Expectativa de Vida da Mulher por Continente')\n",
    "grafico.show()"
   ]
  },
  {
   "cell_type": "code",
   "execution_count": null,
   "id": "ace44cf5-abc4-44d4-9b95-49d0b04da3b8",
   "metadata": {},
   "outputs": [],
   "source": []
  }
 ],
 "metadata": {
  "kernelspec": {
   "display_name": "Python 3 (ipykernel)",
   "language": "python",
   "name": "python3"
  },
  "language_info": {
   "codemirror_mode": {
    "name": "ipython",
    "version": 3
   },
   "file_extension": ".py",
   "mimetype": "text/x-python",
   "name": "python",
   "nbconvert_exporter": "python",
   "pygments_lexer": "ipython3",
   "version": "3.11.7"
  }
 },
 "nbformat": 4,
 "nbformat_minor": 5
}
